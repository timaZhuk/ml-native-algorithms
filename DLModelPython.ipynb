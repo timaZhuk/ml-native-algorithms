{
  "nbformat": 4,
  "nbformat_minor": 0,
  "metadata": {
    "colab": {
      "provenance": [],
      "mount_file_id": "1t8cO0tHuHKSedXIlkgePfJElT68KOYBq",
      "authorship_tag": "ABX9TyOnDhDDOjrUqROZPiN2uL5u",
      "include_colab_link": true
    },
    "kernelspec": {
      "name": "python3",
      "display_name": "Python 3"
    },
    "language_info": {
      "name": "python"
    }
  },
  "cells": [
    {
      "cell_type": "markdown",
      "metadata": {
        "id": "view-in-github",
        "colab_type": "text"
      },
      "source": [
        "<a href=\"https://colab.research.google.com/github/timaZhuk/ml-native-algorithms/blob/main/DLModelPython.ipynb\" target=\"_parent\"><img src=\"https://colab.research.google.com/assets/colab-badge.svg\" alt=\"Open In Colab\"/></a>"
      ]
    },
    {
      "cell_type": "markdown",
      "source": [
        "# Neural Network\n",
        "## link to train.csv dataset\n",
        "* https://www.kaggle.com/competitions/digit-recognizer/data?select=train.csv\n"
      ],
      "metadata": {
        "id": "v1sGOrUFSWZT"
      }
    },
    {
      "cell_type": "code",
      "execution_count": null,
      "metadata": {
        "id": "OXD-2euZSVVJ"
      },
      "outputs": [],
      "source": [
        "import numpy as np\n",
        "import pandas as pd\n",
        "from matplotlib import pyplot as plt"
      ]
    },
    {
      "cell_type": "code",
      "source": [
        "path_train='/content/drive/MyDrive/trainMNiST.csv'"
      ],
      "metadata": {
        "id": "8z_Tn9yiSiqa"
      },
      "execution_count": null,
      "outputs": []
    },
    {
      "cell_type": "code",
      "source": [
        "data = pd.read_csv(path_train)"
      ],
      "metadata": {
        "id": "_sphvIFTSitJ"
      },
      "execution_count": null,
      "outputs": []
    },
    {
      "cell_type": "code",
      "source": [
        "data.head()"
      ],
      "metadata": {
        "colab": {
          "base_uri": "https://localhost:8080/",
          "height": 255
        },
        "id": "6QQ89M-3U1Zm",
        "outputId": "6e621069-aa58-4e78-f446-f4a29bed9615"
      },
      "execution_count": null,
      "outputs": [
        {
          "output_type": "execute_result",
          "data": {
            "text/plain": [
              "   label  pixel0  pixel1  pixel2  pixel3  pixel4  pixel5  pixel6  pixel7  \\\n",
              "0      1       0       0       0       0       0       0       0       0   \n",
              "1      0       0       0       0       0       0       0       0       0   \n",
              "2      1       0       0       0       0       0       0       0       0   \n",
              "3      4       0       0       0       0       0       0       0       0   \n",
              "4      0       0       0       0       0       0       0       0       0   \n",
              "\n",
              "   pixel8  ...  pixel774  pixel775  pixel776  pixel777  pixel778  pixel779  \\\n",
              "0       0  ...         0         0         0         0         0         0   \n",
              "1       0  ...         0         0         0         0         0         0   \n",
              "2       0  ...         0         0         0         0         0         0   \n",
              "3       0  ...         0         0         0         0         0         0   \n",
              "4       0  ...         0         0         0         0         0         0   \n",
              "\n",
              "   pixel780  pixel781  pixel782  pixel783  \n",
              "0         0         0         0         0  \n",
              "1         0         0         0         0  \n",
              "2         0         0         0         0  \n",
              "3         0         0         0         0  \n",
              "4         0         0         0         0  \n",
              "\n",
              "[5 rows x 785 columns]"
            ],
            "text/html": [
              "\n",
              "  <div id=\"df-8ed44854-b013-43b3-8897-711a294ba0fd\" class=\"colab-df-container\">\n",
              "    <div>\n",
              "<style scoped>\n",
              "    .dataframe tbody tr th:only-of-type {\n",
              "        vertical-align: middle;\n",
              "    }\n",
              "\n",
              "    .dataframe tbody tr th {\n",
              "        vertical-align: top;\n",
              "    }\n",
              "\n",
              "    .dataframe thead th {\n",
              "        text-align: right;\n",
              "    }\n",
              "</style>\n",
              "<table border=\"1\" class=\"dataframe\">\n",
              "  <thead>\n",
              "    <tr style=\"text-align: right;\">\n",
              "      <th></th>\n",
              "      <th>label</th>\n",
              "      <th>pixel0</th>\n",
              "      <th>pixel1</th>\n",
              "      <th>pixel2</th>\n",
              "      <th>pixel3</th>\n",
              "      <th>pixel4</th>\n",
              "      <th>pixel5</th>\n",
              "      <th>pixel6</th>\n",
              "      <th>pixel7</th>\n",
              "      <th>pixel8</th>\n",
              "      <th>...</th>\n",
              "      <th>pixel774</th>\n",
              "      <th>pixel775</th>\n",
              "      <th>pixel776</th>\n",
              "      <th>pixel777</th>\n",
              "      <th>pixel778</th>\n",
              "      <th>pixel779</th>\n",
              "      <th>pixel780</th>\n",
              "      <th>pixel781</th>\n",
              "      <th>pixel782</th>\n",
              "      <th>pixel783</th>\n",
              "    </tr>\n",
              "  </thead>\n",
              "  <tbody>\n",
              "    <tr>\n",
              "      <th>0</th>\n",
              "      <td>1</td>\n",
              "      <td>0</td>\n",
              "      <td>0</td>\n",
              "      <td>0</td>\n",
              "      <td>0</td>\n",
              "      <td>0</td>\n",
              "      <td>0</td>\n",
              "      <td>0</td>\n",
              "      <td>0</td>\n",
              "      <td>0</td>\n",
              "      <td>...</td>\n",
              "      <td>0</td>\n",
              "      <td>0</td>\n",
              "      <td>0</td>\n",
              "      <td>0</td>\n",
              "      <td>0</td>\n",
              "      <td>0</td>\n",
              "      <td>0</td>\n",
              "      <td>0</td>\n",
              "      <td>0</td>\n",
              "      <td>0</td>\n",
              "    </tr>\n",
              "    <tr>\n",
              "      <th>1</th>\n",
              "      <td>0</td>\n",
              "      <td>0</td>\n",
              "      <td>0</td>\n",
              "      <td>0</td>\n",
              "      <td>0</td>\n",
              "      <td>0</td>\n",
              "      <td>0</td>\n",
              "      <td>0</td>\n",
              "      <td>0</td>\n",
              "      <td>0</td>\n",
              "      <td>...</td>\n",
              "      <td>0</td>\n",
              "      <td>0</td>\n",
              "      <td>0</td>\n",
              "      <td>0</td>\n",
              "      <td>0</td>\n",
              "      <td>0</td>\n",
              "      <td>0</td>\n",
              "      <td>0</td>\n",
              "      <td>0</td>\n",
              "      <td>0</td>\n",
              "    </tr>\n",
              "    <tr>\n",
              "      <th>2</th>\n",
              "      <td>1</td>\n",
              "      <td>0</td>\n",
              "      <td>0</td>\n",
              "      <td>0</td>\n",
              "      <td>0</td>\n",
              "      <td>0</td>\n",
              "      <td>0</td>\n",
              "      <td>0</td>\n",
              "      <td>0</td>\n",
              "      <td>0</td>\n",
              "      <td>...</td>\n",
              "      <td>0</td>\n",
              "      <td>0</td>\n",
              "      <td>0</td>\n",
              "      <td>0</td>\n",
              "      <td>0</td>\n",
              "      <td>0</td>\n",
              "      <td>0</td>\n",
              "      <td>0</td>\n",
              "      <td>0</td>\n",
              "      <td>0</td>\n",
              "    </tr>\n",
              "    <tr>\n",
              "      <th>3</th>\n",
              "      <td>4</td>\n",
              "      <td>0</td>\n",
              "      <td>0</td>\n",
              "      <td>0</td>\n",
              "      <td>0</td>\n",
              "      <td>0</td>\n",
              "      <td>0</td>\n",
              "      <td>0</td>\n",
              "      <td>0</td>\n",
              "      <td>0</td>\n",
              "      <td>...</td>\n",
              "      <td>0</td>\n",
              "      <td>0</td>\n",
              "      <td>0</td>\n",
              "      <td>0</td>\n",
              "      <td>0</td>\n",
              "      <td>0</td>\n",
              "      <td>0</td>\n",
              "      <td>0</td>\n",
              "      <td>0</td>\n",
              "      <td>0</td>\n",
              "    </tr>\n",
              "    <tr>\n",
              "      <th>4</th>\n",
              "      <td>0</td>\n",
              "      <td>0</td>\n",
              "      <td>0</td>\n",
              "      <td>0</td>\n",
              "      <td>0</td>\n",
              "      <td>0</td>\n",
              "      <td>0</td>\n",
              "      <td>0</td>\n",
              "      <td>0</td>\n",
              "      <td>0</td>\n",
              "      <td>...</td>\n",
              "      <td>0</td>\n",
              "      <td>0</td>\n",
              "      <td>0</td>\n",
              "      <td>0</td>\n",
              "      <td>0</td>\n",
              "      <td>0</td>\n",
              "      <td>0</td>\n",
              "      <td>0</td>\n",
              "      <td>0</td>\n",
              "      <td>0</td>\n",
              "    </tr>\n",
              "  </tbody>\n",
              "</table>\n",
              "<p>5 rows × 785 columns</p>\n",
              "</div>\n",
              "    <div class=\"colab-df-buttons\">\n",
              "\n",
              "  <div class=\"colab-df-container\">\n",
              "    <button class=\"colab-df-convert\" onclick=\"convertToInteractive('df-8ed44854-b013-43b3-8897-711a294ba0fd')\"\n",
              "            title=\"Convert this dataframe to an interactive table.\"\n",
              "            style=\"display:none;\">\n",
              "\n",
              "  <svg xmlns=\"http://www.w3.org/2000/svg\" height=\"24px\" viewBox=\"0 -960 960 960\">\n",
              "    <path d=\"M120-120v-720h720v720H120Zm60-500h600v-160H180v160Zm220 220h160v-160H400v160Zm0 220h160v-160H400v160ZM180-400h160v-160H180v160Zm440 0h160v-160H620v160ZM180-180h160v-160H180v160Zm440 0h160v-160H620v160Z\"/>\n",
              "  </svg>\n",
              "    </button>\n",
              "\n",
              "  <style>\n",
              "    .colab-df-container {\n",
              "      display:flex;\n",
              "      gap: 12px;\n",
              "    }\n",
              "\n",
              "    .colab-df-convert {\n",
              "      background-color: #E8F0FE;\n",
              "      border: none;\n",
              "      border-radius: 50%;\n",
              "      cursor: pointer;\n",
              "      display: none;\n",
              "      fill: #1967D2;\n",
              "      height: 32px;\n",
              "      padding: 0 0 0 0;\n",
              "      width: 32px;\n",
              "    }\n",
              "\n",
              "    .colab-df-convert:hover {\n",
              "      background-color: #E2EBFA;\n",
              "      box-shadow: 0px 1px 2px rgba(60, 64, 67, 0.3), 0px 1px 3px 1px rgba(60, 64, 67, 0.15);\n",
              "      fill: #174EA6;\n",
              "    }\n",
              "\n",
              "    .colab-df-buttons div {\n",
              "      margin-bottom: 4px;\n",
              "    }\n",
              "\n",
              "    [theme=dark] .colab-df-convert {\n",
              "      background-color: #3B4455;\n",
              "      fill: #D2E3FC;\n",
              "    }\n",
              "\n",
              "    [theme=dark] .colab-df-convert:hover {\n",
              "      background-color: #434B5C;\n",
              "      box-shadow: 0px 1px 3px 1px rgba(0, 0, 0, 0.15);\n",
              "      filter: drop-shadow(0px 1px 2px rgba(0, 0, 0, 0.3));\n",
              "      fill: #FFFFFF;\n",
              "    }\n",
              "  </style>\n",
              "\n",
              "    <script>\n",
              "      const buttonEl =\n",
              "        document.querySelector('#df-8ed44854-b013-43b3-8897-711a294ba0fd button.colab-df-convert');\n",
              "      buttonEl.style.display =\n",
              "        google.colab.kernel.accessAllowed ? 'block' : 'none';\n",
              "\n",
              "      async function convertToInteractive(key) {\n",
              "        const element = document.querySelector('#df-8ed44854-b013-43b3-8897-711a294ba0fd');\n",
              "        const dataTable =\n",
              "          await google.colab.kernel.invokeFunction('convertToInteractive',\n",
              "                                                    [key], {});\n",
              "        if (!dataTable) return;\n",
              "\n",
              "        const docLinkHtml = 'Like what you see? Visit the ' +\n",
              "          '<a target=\"_blank\" href=https://colab.research.google.com/notebooks/data_table.ipynb>data table notebook</a>'\n",
              "          + ' to learn more about interactive tables.';\n",
              "        element.innerHTML = '';\n",
              "        dataTable['output_type'] = 'display_data';\n",
              "        await google.colab.output.renderOutput(dataTable, element);\n",
              "        const docLink = document.createElement('div');\n",
              "        docLink.innerHTML = docLinkHtml;\n",
              "        element.appendChild(docLink);\n",
              "      }\n",
              "    </script>\n",
              "  </div>\n",
              "\n",
              "\n",
              "<div id=\"df-789ac094-e1ca-494b-944f-25a07e472080\">\n",
              "  <button class=\"colab-df-quickchart\" onclick=\"quickchart('df-789ac094-e1ca-494b-944f-25a07e472080')\"\n",
              "            title=\"Suggest charts\"\n",
              "            style=\"display:none;\">\n",
              "\n",
              "<svg xmlns=\"http://www.w3.org/2000/svg\" height=\"24px\"viewBox=\"0 0 24 24\"\n",
              "     width=\"24px\">\n",
              "    <g>\n",
              "        <path d=\"M19 3H5c-1.1 0-2 .9-2 2v14c0 1.1.9 2 2 2h14c1.1 0 2-.9 2-2V5c0-1.1-.9-2-2-2zM9 17H7v-7h2v7zm4 0h-2V7h2v10zm4 0h-2v-4h2v4z\"/>\n",
              "    </g>\n",
              "</svg>\n",
              "  </button>\n",
              "\n",
              "<style>\n",
              "  .colab-df-quickchart {\n",
              "      --bg-color: #E8F0FE;\n",
              "      --fill-color: #1967D2;\n",
              "      --hover-bg-color: #E2EBFA;\n",
              "      --hover-fill-color: #174EA6;\n",
              "      --disabled-fill-color: #AAA;\n",
              "      --disabled-bg-color: #DDD;\n",
              "  }\n",
              "\n",
              "  [theme=dark] .colab-df-quickchart {\n",
              "      --bg-color: #3B4455;\n",
              "      --fill-color: #D2E3FC;\n",
              "      --hover-bg-color: #434B5C;\n",
              "      --hover-fill-color: #FFFFFF;\n",
              "      --disabled-bg-color: #3B4455;\n",
              "      --disabled-fill-color: #666;\n",
              "  }\n",
              "\n",
              "  .colab-df-quickchart {\n",
              "    background-color: var(--bg-color);\n",
              "    border: none;\n",
              "    border-radius: 50%;\n",
              "    cursor: pointer;\n",
              "    display: none;\n",
              "    fill: var(--fill-color);\n",
              "    height: 32px;\n",
              "    padding: 0;\n",
              "    width: 32px;\n",
              "  }\n",
              "\n",
              "  .colab-df-quickchart:hover {\n",
              "    background-color: var(--hover-bg-color);\n",
              "    box-shadow: 0 1px 2px rgba(60, 64, 67, 0.3), 0 1px 3px 1px rgba(60, 64, 67, 0.15);\n",
              "    fill: var(--button-hover-fill-color);\n",
              "  }\n",
              "\n",
              "  .colab-df-quickchart-complete:disabled,\n",
              "  .colab-df-quickchart-complete:disabled:hover {\n",
              "    background-color: var(--disabled-bg-color);\n",
              "    fill: var(--disabled-fill-color);\n",
              "    box-shadow: none;\n",
              "  }\n",
              "\n",
              "  .colab-df-spinner {\n",
              "    border: 2px solid var(--fill-color);\n",
              "    border-color: transparent;\n",
              "    border-bottom-color: var(--fill-color);\n",
              "    animation:\n",
              "      spin 1s steps(1) infinite;\n",
              "  }\n",
              "\n",
              "  @keyframes spin {\n",
              "    0% {\n",
              "      border-color: transparent;\n",
              "      border-bottom-color: var(--fill-color);\n",
              "      border-left-color: var(--fill-color);\n",
              "    }\n",
              "    20% {\n",
              "      border-color: transparent;\n",
              "      border-left-color: var(--fill-color);\n",
              "      border-top-color: var(--fill-color);\n",
              "    }\n",
              "    30% {\n",
              "      border-color: transparent;\n",
              "      border-left-color: var(--fill-color);\n",
              "      border-top-color: var(--fill-color);\n",
              "      border-right-color: var(--fill-color);\n",
              "    }\n",
              "    40% {\n",
              "      border-color: transparent;\n",
              "      border-right-color: var(--fill-color);\n",
              "      border-top-color: var(--fill-color);\n",
              "    }\n",
              "    60% {\n",
              "      border-color: transparent;\n",
              "      border-right-color: var(--fill-color);\n",
              "    }\n",
              "    80% {\n",
              "      border-color: transparent;\n",
              "      border-right-color: var(--fill-color);\n",
              "      border-bottom-color: var(--fill-color);\n",
              "    }\n",
              "    90% {\n",
              "      border-color: transparent;\n",
              "      border-bottom-color: var(--fill-color);\n",
              "    }\n",
              "  }\n",
              "</style>\n",
              "\n",
              "  <script>\n",
              "    async function quickchart(key) {\n",
              "      const quickchartButtonEl =\n",
              "        document.querySelector('#' + key + ' button');\n",
              "      quickchartButtonEl.disabled = true;  // To prevent multiple clicks.\n",
              "      quickchartButtonEl.classList.add('colab-df-spinner');\n",
              "      try {\n",
              "        const charts = await google.colab.kernel.invokeFunction(\n",
              "            'suggestCharts', [key], {});\n",
              "      } catch (error) {\n",
              "        console.error('Error during call to suggestCharts:', error);\n",
              "      }\n",
              "      quickchartButtonEl.classList.remove('colab-df-spinner');\n",
              "      quickchartButtonEl.classList.add('colab-df-quickchart-complete');\n",
              "    }\n",
              "    (() => {\n",
              "      let quickchartButtonEl =\n",
              "        document.querySelector('#df-789ac094-e1ca-494b-944f-25a07e472080 button');\n",
              "      quickchartButtonEl.style.display =\n",
              "        google.colab.kernel.accessAllowed ? 'block' : 'none';\n",
              "    })();\n",
              "  </script>\n",
              "</div>\n",
              "\n",
              "    </div>\n",
              "  </div>\n"
            ],
            "application/vnd.google.colaboratory.intrinsic+json": {
              "type": "dataframe",
              "variable_name": "data"
            }
          },
          "metadata": {},
          "execution_count": 6
        }
      ]
    },
    {
      "cell_type": "markdown",
      "source": [
        "## Convert pandas to numpy array"
      ],
      "metadata": {
        "id": "5aUIkyWQX0dD"
      }
    },
    {
      "cell_type": "code",
      "source": [
        "data = np.array(data)"
      ],
      "metadata": {
        "id": "SwIPG1K1SqYA"
      },
      "execution_count": null,
      "outputs": []
    },
    {
      "cell_type": "code",
      "source": [
        "data"
      ],
      "metadata": {
        "colab": {
          "base_uri": "https://localhost:8080/"
        },
        "id": "HD5Yk4dCSqah",
        "outputId": "856bd6cf-94b8-4f7d-eb46-5ae1718cc203"
      },
      "execution_count": null,
      "outputs": [
        {
          "output_type": "execute_result",
          "data": {
            "text/plain": [
              "array([[1, 0, 0, ..., 0, 0, 0],\n",
              "       [0, 0, 0, ..., 0, 0, 0],\n",
              "       [1, 0, 0, ..., 0, 0, 0],\n",
              "       ...,\n",
              "       [7, 0, 0, ..., 0, 0, 0],\n",
              "       [6, 0, 0, ..., 0, 0, 0],\n",
              "       [9, 0, 0, ..., 0, 0, 0]])"
            ]
          },
          "metadata": {},
          "execution_count": 8
        }
      ]
    },
    {
      "cell_type": "markdown",
      "source": [
        "## extract dimensions from data set"
      ],
      "metadata": {
        "id": "df9tgeIaX51r"
      }
    },
    {
      "cell_type": "code",
      "source": [
        "m, n = data.shape # m=42000 (number of examples), n=784+1 -- (pixels + 1col labels)\n",
        "print(data.shape)"
      ],
      "metadata": {
        "colab": {
          "base_uri": "https://localhost:8080/"
        },
        "id": "ye9_ZsavVlEo",
        "outputId": "0c69e1f5-9367-4224-902d-c3b67451d4c5"
      },
      "execution_count": null,
      "outputs": [
        {
          "output_type": "stream",
          "name": "stdout",
          "text": [
            "(42000, 785)\n"
          ]
        }
      ]
    },
    {
      "cell_type": "markdown",
      "source": [
        "## Shuffle the data"
      ],
      "metadata": {
        "id": "oJL7o4gPYAyJ"
      }
    },
    {
      "cell_type": "code",
      "source": [
        "np.random.shuffle(data)"
      ],
      "metadata": {
        "id": "oIuabpIlVlH3"
      },
      "execution_count": null,
      "outputs": []
    },
    {
      "cell_type": "markdown",
      "source": [
        "## Get 1000 sample Transpose matrix\n",
        "### (n-pixels, m-examples)"
      ],
      "metadata": {
        "id": "ar3qvorOYrRO"
      }
    },
    {
      "cell_type": "code",
      "source": [
        "data_dev = data[0:1000].T\n",
        "data_dev.shape"
      ],
      "metadata": {
        "colab": {
          "base_uri": "https://localhost:8080/"
        },
        "id": "lwPHNfIjVlLA",
        "outputId": "90442c98-1545-4991-b419-a5bccb5b52e4"
      },
      "execution_count": null,
      "outputs": [
        {
          "output_type": "execute_result",
          "data": {
            "text/plain": [
              "(785, 1000)"
            ]
          },
          "metadata": {},
          "execution_count": 13
        }
      ]
    },
    {
      "cell_type": "code",
      "source": [
        "Y_dev = data_dev[0] # label 0 - row (actual numbers 0....9)\n",
        "X_dev = data_dev[1:n] # number of features that we need to test rows = 784\n",
        "# normalization pixels from 0....255 then we divide them on 255\n",
        "X_dev =X_dev/255."
      ],
      "metadata": {
        "id": "jsZKz_6pZHS7"
      },
      "execution_count": null,
      "outputs": []
    },
    {
      "cell_type": "code",
      "source": [
        "X_dev"
      ],
      "metadata": {
        "colab": {
          "base_uri": "https://localhost:8080/"
        },
        "id": "8nwVx6L8ZHWp",
        "outputId": "1d0b6a96-06d5-4d01-dd94-e848badd2ba8"
      },
      "execution_count": null,
      "outputs": [
        {
          "output_type": "execute_result",
          "data": {
            "text/plain": [
              "array([[0., 0., 0., ..., 0., 0., 0.],\n",
              "       [0., 0., 0., ..., 0., 0., 0.],\n",
              "       [0., 0., 0., ..., 0., 0., 0.],\n",
              "       ...,\n",
              "       [0., 0., 0., ..., 0., 0., 0.],\n",
              "       [0., 0., 0., ..., 0., 0., 0.],\n",
              "       [0., 0., 0., ..., 0., 0., 0.]])"
            ]
          },
          "metadata": {},
          "execution_count": 15
        }
      ]
    },
    {
      "cell_type": "markdown",
      "source": [
        "### Train data split"
      ],
      "metadata": {
        "id": "pmn-QFB6a94p"
      }
    },
    {
      "cell_type": "code",
      "source": [
        "# last 1000:m training samples that we would train\n",
        "data_train = data[1000:m].T # n = rows, m - columns in transposed matrix\n",
        "Y_train = data_train[0] # label row (actual numbers)\n",
        "X_train = data_train[1:n] # number of features we need to train (784 rows)\n",
        "X_train = X_train/255.\n",
        "_,m_train = X_train.shape\n",
        "\n",
        "\n"
      ],
      "metadata": {
        "id": "KK2F5k2wa9RZ"
      },
      "execution_count": null,
      "outputs": []
    },
    {
      "cell_type": "code",
      "source": [
        "# First column\n",
        "X_train[:, 0].shape"
      ],
      "metadata": {
        "colab": {
          "base_uri": "https://localhost:8080/"
        },
        "id": "U4LtZp1Ea8mJ",
        "outputId": "395ea0af-d65d-4084-e598-40993ea2c1fd"
      },
      "execution_count": null,
      "outputs": [
        {
          "output_type": "execute_result",
          "data": {
            "text/plain": [
              "(784,)"
            ]
          },
          "metadata": {},
          "execution_count": 18
        }
      ]
    },
    {
      "cell_type": "markdown",
      "source": [
        "## Initialize Parameters: Weight, biases randomly\n"
      ],
      "metadata": {
        "id": "Z08iHh5XebrW"
      }
    },
    {
      "cell_type": "code",
      "source": [
        "def init_params():\n",
        "  # 0 layer (input layer #1)\n",
        "  W1 = np.random.randn(10, 784)\n",
        "  b1 = np.random.randn(10, 1)\n",
        "  # 1 layer (inner layer #2 second)\n",
        "  W2 = np.random.randn(10,10)\n",
        "  b2 = np.random.randn(10, 1)\n",
        "  return W1, b1, W2, b2"
      ],
      "metadata": {
        "id": "fu5PuSOiZ7Kn"
      },
      "execution_count": null,
      "outputs": []
    },
    {
      "cell_type": "code",
      "source": [
        "# element wise (if el < 0 return 0,\n",
        "# else el > 0 return Z)\n",
        "def ReLU(Z):\n",
        "  return np.maximum(Z, 0)"
      ],
      "metadata": {
        "id": "Z1kIBO30Z7Nv"
      },
      "execution_count": null,
      "outputs": []
    },
    {
      "cell_type": "code",
      "source": [
        "# SOFTMAX function summation each element in cilumn\n",
        "def softmax(Z):\n",
        "  return np.exp(Z)/sum(np.exp(Z))"
      ],
      "metadata": {
        "id": "R4Uoa-uoZHlj"
      },
      "execution_count": null,
      "outputs": []
    },
    {
      "cell_type": "code",
      "source": [
        "def forward_prop(W1, b1, W2, b2, X):\n",
        "  Z1 = W1.dot(X) + b1\n",
        "  A1 = ReLU(Z1)\n",
        "  Z2 = W2.dot(A1) + b2\n",
        "  A2 = softmax(Z2)\n",
        "  return Z1, A1, Z2, A2"
      ],
      "metadata": {
        "id": "YlJamdatfzmu"
      },
      "execution_count": null,
      "outputs": []
    },
    {
      "cell_type": "markdown",
      "source": [
        "## One-hot coding of Y output matrix (m, 1)\n"
      ],
      "metadata": {
        "id": "f592SXQgkKpV"
      }
    },
    {
      "cell_type": "code",
      "source": [
        "# convert m - examples (rows), 1 - column (real number 0--9)\n",
        "# to 10 rows with m-columns\n",
        "def one_hot(Y):\n",
        "  # creating 0-filled matrix (m-exmples, 10-columns)\n",
        "  # Y.max()+1 = 9 + 1 = 10\n",
        "  # Y.size = m (number of examples)\n",
        "  one_hot_Y = np.zeros((Y.size, Y.max()+1)) # (m, 10)\n",
        "  # go throug the m rows and where Y == number (0...9) we put 1 (100%)\n",
        "  one_hot_Y[np.arange(Y.size), Y] = 1\n",
        "  one_hot_Y = one_hot_Y.T #(10, m)\n",
        "  return one_hot_Y\n"
      ],
      "metadata": {
        "id": "M935YbzngOOs"
      },
      "execution_count": null,
      "outputs": []
    },
    {
      "cell_type": "code",
      "source": [
        "one_hot(Y_train)"
      ],
      "metadata": {
        "colab": {
          "base_uri": "https://localhost:8080/"
        },
        "id": "aoF1d7j52E5w",
        "outputId": "7230aeef-c12f-417e-f725-ab8704736aa8"
      },
      "execution_count": null,
      "outputs": [
        {
          "output_type": "execute_result",
          "data": {
            "text/plain": [
              "array([[0., 0., 1., ..., 0., 1., 0.],\n",
              "       [0., 0., 0., ..., 0., 0., 0.],\n",
              "       [0., 1., 0., ..., 0., 0., 0.],\n",
              "       ...,\n",
              "       [0., 0., 0., ..., 1., 0., 0.],\n",
              "       [0., 0., 0., ..., 0., 0., 0.],\n",
              "       [0., 0., 0., ..., 0., 0., 1.]])"
            ]
          },
          "metadata": {},
          "execution_count": 26
        }
      ]
    },
    {
      "cell_type": "code",
      "source": [
        "one_hot(Y_train).shape"
      ],
      "metadata": {
        "colab": {
          "base_uri": "https://localhost:8080/"
        },
        "id": "MPUh_vBXkSdd",
        "outputId": "86dfe8c2-b109-4f60-f051-faf1df8ce538"
      },
      "execution_count": null,
      "outputs": [
        {
          "output_type": "execute_result",
          "data": {
            "text/plain": [
              "(10, 41000)"
            ]
          },
          "metadata": {},
          "execution_count": 25
        }
      ]
    },
    {
      "cell_type": "code",
      "source": [
        "# derivative of ReLU function\n",
        "# slope of ReLU 1 (x > 0) and 0 (x =< 0)\n",
        "# 1(True) if Z > 0, 0(false) if Z < 0\n",
        "def deriv_ReLU(Z):\n",
        "  return Z > 0"
      ],
      "metadata": {
        "id": "V430jriQ5EaP"
      },
      "execution_count": null,
      "outputs": []
    },
    {
      "cell_type": "code",
      "source": [
        "def backward_prop(Z1, A1, Z2, A2, W1, W2, X, Y):\n",
        "  #m = Y.size\n",
        "  one_hot_Y = one_hot(Y)\n",
        "  dZ2 = A2 - one_hot_Y\n",
        "  dW2 = (1/m)*(dZ2.dot(A1.T))\n",
        "  db2 = (1/m)*(np.sum(dZ2))\n",
        "  dZ1 = (W2.T).dot(dZ2)*deriv_ReLU(Z1)\n",
        "  dW1 = (1/m)*(dZ1.dot(X.T))\n",
        "  db1 = (1/m)*(np.sum(dZ1))\n",
        "  return dW1, db1, dW2, db2"
      ],
      "metadata": {
        "id": "fnbziccAkSgO"
      },
      "execution_count": null,
      "outputs": []
    },
    {
      "cell_type": "markdown",
      "source": [
        "##Updating  Parameters\n"
      ],
      "metadata": {
        "id": "vnEU8Bdx6V_w"
      }
    },
    {
      "cell_type": "code",
      "source": [
        "def update_params(W1, b1, W2, b2, dW1, db1, dW2, db2, alpha):\n",
        "  W1 = W1 - alpha*dW1\n",
        "  b1 = b1 - alpha*db1\n",
        "  W2 = W2 - alpha*dW2\n",
        "  b2 = b2 - alpha*db2\n",
        "  return W1, b1, W2, b2\n"
      ],
      "metadata": {
        "id": "OYhxdNxRoAB4"
      },
      "execution_count": null,
      "outputs": []
    },
    {
      "cell_type": "code",
      "source": [
        "#\n",
        "def get_predictions(A2):\n",
        "  return np.argmax(A2, 0)\n"
      ],
      "metadata": {
        "id": "mEdRmOPT6VKA"
      },
      "execution_count": null,
      "outputs": []
    },
    {
      "cell_type": "code",
      "source": [
        "def get_accuracy(predictions, Y):\n",
        "  print(predictions, Y)\n",
        "  return np.sum(predictions == Y)/Y.size"
      ],
      "metadata": {
        "id": "flgLoZGvoAE6"
      },
      "execution_count": null,
      "outputs": []
    },
    {
      "cell_type": "code",
      "source": [
        "# Gradient descent\n",
        "def gradient_descent(X, Y, alpha, iterations):\n",
        "  W1, b1, W2, b2 = init_params()\n",
        "\n",
        "  for i in range(iterations):\n",
        "    Z1, A1, Z2, A2 = forward_prop(W1, b1, W2, b2, X)\n",
        "    dW1, db1, dW2, db2 = backward_prop(Z1, A1, Z2, A2, W1, W2, X, Y)\n",
        "    W1, b1, W2, b2 = update_params(W1, b1, W2, b2, dW1, db1, dW2, db2, alpha)\n",
        "    if i%50 == 0:\n",
        "      print(\"Iterations: \", i)\n",
        "      predictions = get_predictions(A2)\n",
        "      print(\"Accuracy: \", get_accuracy(predictions, Y))\n",
        "  return W1, b1, W2, b2"
      ],
      "metadata": {
        "id": "iIQsDYID7p9B"
      },
      "execution_count": null,
      "outputs": []
    },
    {
      "cell_type": "code",
      "source": [
        "W1, b1, W2, b2 = gradient_descent(X_train, Y_train, 0.1, 700)"
      ],
      "metadata": {
        "colab": {
          "base_uri": "https://localhost:8080/"
        },
        "id": "raKAwWCJ7VTr",
        "outputId": "9e0ec511-5f2b-4f97-c8d2-46bf08e8a2c0"
      },
      "execution_count": null,
      "outputs": [
        {
          "output_type": "stream",
          "name": "stdout",
          "text": [
            "Iterations:  0\n",
            "[8 8 3 ... 3 1 3] [3 2 0 ... 7 0 9]\n",
            "Accuracy:  0.09385365853658537\n",
            "Iterations:  50\n",
            "[2 8 1 ... 8 8 8] [3 2 0 ... 7 0 9]\n",
            "Accuracy:  0.175390243902439\n",
            "Iterations:  100\n",
            "[2 8 1 ... 8 8 8] [3 2 0 ... 7 0 9]\n",
            "Accuracy:  0.2115609756097561\n",
            "Iterations:  150\n",
            "[2 8 1 ... 8 8 8] [3 2 0 ... 7 0 9]\n",
            "Accuracy:  0.24907317073170732\n",
            "Iterations:  200\n",
            "[2 8 1 ... 8 8 8] [3 2 0 ... 7 0 9]\n",
            "Accuracy:  0.27887804878048783\n",
            "Iterations:  250\n",
            "[2 8 1 ... 8 8 8] [3 2 0 ... 7 0 9]\n",
            "Accuracy:  0.30646341463414634\n",
            "Iterations:  300\n",
            "[2 8 1 ... 8 0 8] [3 2 0 ... 7 0 9]\n",
            "Accuracy:  0.33078048780487807\n",
            "Iterations:  350\n",
            "[2 2 1 ... 8 0 7] [3 2 0 ... 7 0 9]\n",
            "Accuracy:  0.35124390243902437\n",
            "Iterations:  400\n",
            "[2 2 3 ... 8 0 7] [3 2 0 ... 7 0 9]\n",
            "Accuracy:  0.3702682926829268\n",
            "Iterations:  450\n",
            "[2 2 3 ... 8 0 7] [3 2 0 ... 7 0 9]\n",
            "Accuracy:  0.387\n",
            "Iterations:  500\n",
            "[2 2 3 ... 8 0 7] [3 2 0 ... 7 0 9]\n",
            "Accuracy:  0.40131707317073173\n",
            "Iterations:  550\n",
            "[2 2 3 ... 8 0 7] [3 2 0 ... 7 0 9]\n",
            "Accuracy:  0.41629268292682925\n",
            "Iterations:  600\n",
            "[2 2 3 ... 8 0 7] [3 2 0 ... 7 0 9]\n",
            "Accuracy:  0.430390243902439\n",
            "Iterations:  650\n",
            "[2 2 3 ... 8 0 7] [3 2 0 ... 7 0 9]\n",
            "Accuracy:  0.4450731707317073\n"
          ]
        }
      ]
    },
    {
      "cell_type": "code",
      "source": [
        "def make_predictions(X, W1, b1, W2, b2):\n",
        "  _, _,_, A2 = forward_prop(W1, b1, W2, b2, X)\n",
        "  predictions = get_predictions(A2)\n",
        "  return predictions\n",
        "\n",
        "def test_predictions(index, W1, b1, W2, b2):\n",
        "  current_image = X_train[:, index, None]\n",
        "  prediction = make_predictions(current_image, W1, b1, W2, b2)\n",
        "  label = Y_train[index]\n",
        "  print(\"Prediction: \", prediction)\n",
        "  print(\"label: \", label)\n",
        "\n",
        "  current_image = current_image.reshape((28, 28))*255\n",
        "  plt.gray()\n",
        "  plt.imshow(current_image, interpolation='nearest')\n",
        "  plt.show()"
      ],
      "metadata": {
        "id": "R_qgx2jL7l66"
      },
      "execution_count": null,
      "outputs": []
    },
    {
      "cell_type": "code",
      "source": [
        "test_predictions(70, W1, b1, W2, b2)"
      ],
      "metadata": {
        "colab": {
          "base_uri": "https://localhost:8080/",
          "height": 467
        },
        "id": "TXTAKiD9oAHx",
        "outputId": "e4f35664-8b10-47da-c676-7ff770f1712a"
      },
      "execution_count": null,
      "outputs": [
        {
          "output_type": "stream",
          "name": "stdout",
          "text": [
            "Prediction:  [1]\n",
            "label:  1\n"
          ]
        },
        {
          "output_type": "display_data",
          "data": {
            "text/plain": [
              "<Figure size 640x480 with 1 Axes>"
            ],
            "image/png": "[encoded data removed]"
          },
          "metadata": {}
        }
      ]
    },
    {
      "cell_type": "code",
      "source": [],
      "metadata": {
        "id": "44EOk1-8gORt"
      },
      "execution_count": null,
      "outputs": []
    }
  ]
}